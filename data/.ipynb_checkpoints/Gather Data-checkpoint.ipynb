{
 "metadata": {
  "name": "",
  "signature": "sha256:de8ddcbcd9a1a7c1cf92469a10b14017edbd09c40673bca4496070dbd378a575"
 },
 "nbformat": 3,
 "nbformat_minor": 0,
 "worksheets": []
}